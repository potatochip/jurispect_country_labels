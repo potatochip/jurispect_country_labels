{
 "cells": [
  {
   "cell_type": "markdown",
   "metadata": {},
   "source": [
    "# venture backed companies"
   ]
  },
  {
   "cell_type": "code",
   "execution_count": 1,
   "metadata": {
    "collapsed": false
   },
   "outputs": [],
   "source": [
    "import requests\n",
    "import pandas as pd\n",
    "import tarfile\n",
    "import datetime\n",
    "import cnfg"
   ]
  },
  {
   "cell_type": "code",
   "execution_count": 4,
   "metadata": {
    "collapsed": false
   },
   "outputs": [],
   "source": [
    "config = cnfg['.crunchbase_config']\n",
    "user_key = config['user_key']"
   ]
  },
  {
   "cell_type": "code",
   "execution_count": 5,
   "metadata": {
    "collapsed": false
   },
   "outputs": [],
   "source": [
    "url = 'https://api.crunchbase.com/v/3/odm/odm.csv.tar.gz?user_key=' + user_key"
   ]
  },
  {
   "cell_type": "code",
   "execution_count": 8,
   "metadata": {
    "collapsed": false
   },
   "outputs": [
    {
     "data": {
      "text/plain": [
       "'https://api.crunchbase.com/v/3/odm/odm.csv.tar.gz?user_key=419d2896eaa2ef4a93bff62ae0af51e8'"
      ]
     },
     "execution_count": 8,
     "metadata": {},
     "output_type": "execute_result"
    }
   ],
   "source": [
    "url"
   ]
  },
  {
   "cell_type": "code",
   "execution_count": 27,
   "metadata": {
    "collapsed": false
   },
   "outputs": [
    {
     "name": "stdout",
     "output_type": "stream",
     "text": [
      "data/crunchbase_open_map/open_data_map 091515_200034\n"
     ]
    }
   ],
   "source": [
    "today = datetime.datetime.today()\n",
    "filename = 'data/crunchbase_open_map/open_data_map_' + today.strftime('%m%d%y_%H%M%S')\n",
    "with open(filename, 'wb') as handle:\n",
    "    response = requests.get(url, stream=True)\n",
    "\n",
    "    if not response.ok:\n",
    "        pass\n",
    "\n",
    "    for block in response.iter_content(1024):\n",
    "        handle.write(block)\n",
    "print filename"
   ]
  },
  {
   "cell_type": "code",
   "execution_count": 120,
   "metadata": {
    "collapsed": true
   },
   "outputs": [],
   "source": [
    "filename = 'data/crunchbase_open_map/open_data_map 091515_200034'"
   ]
  },
  {
   "cell_type": "code",
   "execution_count": 121,
   "metadata": {
    "collapsed": false
   },
   "outputs": [],
   "source": [
    "tfile = tarfile.open(filename, 'r:gz')\n",
    "orgs = tfile.extractfile('organizations.csv')\n"
   ]
  },
  {
   "cell_type": "code",
   "execution_count": 122,
   "metadata": {
    "collapsed": false,
    "scrolled": true
   },
   "outputs": [
    {
     "data": {
      "text/html": [
       "<div>\n",
       "<table border=\"1\" class=\"dataframe\">\n",
       "  <thead>\n",
       "    <tr style=\"text-align: right;\">\n",
       "      <th></th>\n",
       "      <th>crunchbase_uuid</th>\n",
       "      <th>type</th>\n",
       "      <th>primary_role</th>\n",
       "      <th>name</th>\n",
       "      <th>crunchbase_url</th>\n",
       "      <th>homepage_domain</th>\n",
       "      <th>homepage_url</th>\n",
       "      <th>profile_image_url</th>\n",
       "      <th>facebook_url</th>\n",
       "      <th>twitter_url</th>\n",
       "      <th>linkedin_url</th>\n",
       "      <th>stock_symbol</th>\n",
       "      <th>location_city</th>\n",
       "      <th>location_region</th>\n",
       "      <th>location_country_code</th>\n",
       "      <th>short_description</th>\n",
       "    </tr>\n",
       "  </thead>\n",
       "  <tbody>\n",
       "    <tr>\n",
       "      <th>0</th>\n",
       "      <td>e139350830ea8a363f96dd3226033abd</td>\n",
       "      <td>Organization</td>\n",
       "      <td>company</td>\n",
       "      <td>Wetpaint</td>\n",
       "      <td>https://www.crunchbase.com/organization/wetpai...</td>\n",
       "      <td>wetpaint-inc.com</td>\n",
       "      <td>http://wetpaint-inc.com</td>\n",
       "      <td>https://www.crunchbase.com/organization/wetpai...</td>\n",
       "      <td>NaN</td>\n",
       "      <td>http://twitter.com/BachelrWetpaint</td>\n",
       "      <td>NaN</td>\n",
       "      <td>NaN</td>\n",
       "      <td>Seattle</td>\n",
       "      <td>Washington</td>\n",
       "      <td>USA</td>\n",
       "      <td>Wetpaint offers an online social publishing pl...</td>\n",
       "    </tr>\n",
       "    <tr>\n",
       "      <th>1</th>\n",
       "      <td>bf4d7b0eb34d2fd8d2926049c4f7efc7</td>\n",
       "      <td>Organization</td>\n",
       "      <td>company</td>\n",
       "      <td>Zoho</td>\n",
       "      <td>https://www.crunchbase.com/organization/zoho?u...</td>\n",
       "      <td>zoho.com</td>\n",
       "      <td>http://zoho.com</td>\n",
       "      <td>https://www.crunchbase.com/organization/zoho/p...</td>\n",
       "      <td>http://www.facebook.com/zoho</td>\n",
       "      <td>http://twitter.com/zoho</td>\n",
       "      <td>http://www.linkedin.com/company/zoho-corporati...</td>\n",
       "      <td>NaN</td>\n",
       "      <td>Pleasanton</td>\n",
       "      <td>California</td>\n",
       "      <td>USA</td>\n",
       "      <td>Zoho offers a suite of business, collaboration...</td>\n",
       "    </tr>\n",
       "    <tr>\n",
       "      <th>2</th>\n",
       "      <td>5f2b40b8d1b3d323d81ab7a8e89553d0</td>\n",
       "      <td>Organization</td>\n",
       "      <td>company</td>\n",
       "      <td>Digg</td>\n",
       "      <td>https://www.crunchbase.com/organization/digg?u...</td>\n",
       "      <td>digg.com</td>\n",
       "      <td>http://www.digg.com</td>\n",
       "      <td>https://www.crunchbase.com/organization/digg/p...</td>\n",
       "      <td>http://www.facebook.com/digg</td>\n",
       "      <td>http://twitter.com/digg</td>\n",
       "      <td>http://www.linkedin.com/company/digg</td>\n",
       "      <td>NaN</td>\n",
       "      <td>New York</td>\n",
       "      <td>New York</td>\n",
       "      <td>USA</td>\n",
       "      <td>Digg Inc. operates a website that enables its ...</td>\n",
       "    </tr>\n",
       "    <tr>\n",
       "      <th>3</th>\n",
       "      <td>f4d5ab44058b298bea81380e6e9a8eec</td>\n",
       "      <td>Organization</td>\n",
       "      <td>investor</td>\n",
       "      <td>Omidyar Network</td>\n",
       "      <td>https://www.crunchbase.com/organization/omidya...</td>\n",
       "      <td>omidyar.com</td>\n",
       "      <td>http://www.omidyar.com</td>\n",
       "      <td>https://www.crunchbase.com/organization/omidya...</td>\n",
       "      <td>http://www.facebook.com/OmidyarNetwork</td>\n",
       "      <td>http://twitter.com/OmidyarNetwork</td>\n",
       "      <td>http://www.linkedin.com/company/22806</td>\n",
       "      <td>NaN</td>\n",
       "      <td>Redwood City</td>\n",
       "      <td>California</td>\n",
       "      <td>USA</td>\n",
       "      <td>Pierre Omidyar, the founder of eBay, and his w...</td>\n",
       "    </tr>\n",
       "    <tr>\n",
       "      <th>4</th>\n",
       "      <td>df6628127f970b439d3e12f64f504fbb</td>\n",
       "      <td>Organization</td>\n",
       "      <td>company</td>\n",
       "      <td>Facebook</td>\n",
       "      <td>https://www.crunchbase.com/organization/facebo...</td>\n",
       "      <td>facebook.com</td>\n",
       "      <td>http://www.facebook.com</td>\n",
       "      <td>https://www.crunchbase.com/organization/facebo...</td>\n",
       "      <td>https://www.facebook.com/</td>\n",
       "      <td>https://twitter.com/facebook</td>\n",
       "      <td>http://www.linkedin.com/company/facebook</td>\n",
       "      <td>NaN</td>\n",
       "      <td>NaN</td>\n",
       "      <td>NaN</td>\n",
       "      <td>NaN</td>\n",
       "      <td>Facebook is an online social networking servic...</td>\n",
       "    </tr>\n",
       "  </tbody>\n",
       "</table>\n",
       "</div>"
      ],
      "text/plain": [
       "                    crunchbase_uuid          type primary_role  \\\n",
       "0  e139350830ea8a363f96dd3226033abd  Organization      company   \n",
       "1  bf4d7b0eb34d2fd8d2926049c4f7efc7  Organization      company   \n",
       "2  5f2b40b8d1b3d323d81ab7a8e89553d0  Organization      company   \n",
       "3  f4d5ab44058b298bea81380e6e9a8eec  Organization     investor   \n",
       "4  df6628127f970b439d3e12f64f504fbb  Organization      company   \n",
       "\n",
       "              name                                     crunchbase_url  \\\n",
       "0         Wetpaint  https://www.crunchbase.com/organization/wetpai...   \n",
       "1             Zoho  https://www.crunchbase.com/organization/zoho?u...   \n",
       "2             Digg  https://www.crunchbase.com/organization/digg?u...   \n",
       "3  Omidyar Network  https://www.crunchbase.com/organization/omidya...   \n",
       "4         Facebook  https://www.crunchbase.com/organization/facebo...   \n",
       "\n",
       "    homepage_domain             homepage_url  \\\n",
       "0  wetpaint-inc.com  http://wetpaint-inc.com   \n",
       "1          zoho.com          http://zoho.com   \n",
       "2          digg.com      http://www.digg.com   \n",
       "3       omidyar.com   http://www.omidyar.com   \n",
       "4      facebook.com  http://www.facebook.com   \n",
       "\n",
       "                                   profile_image_url  \\\n",
       "0  https://www.crunchbase.com/organization/wetpai...   \n",
       "1  https://www.crunchbase.com/organization/zoho/p...   \n",
       "2  https://www.crunchbase.com/organization/digg/p...   \n",
       "3  https://www.crunchbase.com/organization/omidya...   \n",
       "4  https://www.crunchbase.com/organization/facebo...   \n",
       "\n",
       "                             facebook_url                         twitter_url  \\\n",
       "0                                     NaN  http://twitter.com/BachelrWetpaint   \n",
       "1            http://www.facebook.com/zoho             http://twitter.com/zoho   \n",
       "2            http://www.facebook.com/digg             http://twitter.com/digg   \n",
       "3  http://www.facebook.com/OmidyarNetwork   http://twitter.com/OmidyarNetwork   \n",
       "4               https://www.facebook.com/        https://twitter.com/facebook   \n",
       "\n",
       "                                        linkedin_url stock_symbol  \\\n",
       "0                                                NaN          NaN   \n",
       "1  http://www.linkedin.com/company/zoho-corporati...          NaN   \n",
       "2               http://www.linkedin.com/company/digg          NaN   \n",
       "3              http://www.linkedin.com/company/22806          NaN   \n",
       "4           http://www.linkedin.com/company/facebook          NaN   \n",
       "\n",
       "  location_city location_region location_country_code  \\\n",
       "0       Seattle      Washington                   USA   \n",
       "1    Pleasanton      California                   USA   \n",
       "2      New York        New York                   USA   \n",
       "3  Redwood City      California                   USA   \n",
       "4           NaN             NaN                   NaN   \n",
       "\n",
       "                                   short_description  \n",
       "0  Wetpaint offers an online social publishing pl...  \n",
       "1  Zoho offers a suite of business, collaboration...  \n",
       "2  Digg Inc. operates a website that enables its ...  \n",
       "3  Pierre Omidyar, the founder of eBay, and his w...  \n",
       "4  Facebook is an online social networking servic...  "
      ]
     },
     "execution_count": 122,
     "metadata": {},
     "output_type": "execute_result"
    }
   ],
   "source": [
    "df = pd.read_csv(orgs, encoding='utf8')\n",
    "df.head()"
   ]
  },
  {
   "cell_type": "code",
   "execution_count": 123,
   "metadata": {
    "collapsed": false,
    "scrolled": true
   },
   "outputs": [],
   "source": [
    "tfile.close()"
   ]
  },
  {
   "cell_type": "code",
   "execution_count": 124,
   "metadata": {
    "collapsed": false
   },
   "outputs": [],
   "source": [
    "private = df[df.primary_role == 'company'][['name', 'location_city', 'location_region', 'location_country_code']]\n",
    "private.to_pickle('companies_venture_df.pkl')"
   ]
  },
  {
   "cell_type": "code",
   "execution_count": 132,
   "metadata": {
    "collapsed": false
   },
   "outputs": [
    {
     "data": {
      "text/html": [
       "<div>\n",
       "<table border=\"1\" class=\"dataframe\">\n",
       "  <thead>\n",
       "    <tr style=\"text-align: right;\">\n",
       "      <th></th>\n",
       "      <th>name</th>\n",
       "      <th>location_city</th>\n",
       "      <th>location_region</th>\n",
       "      <th>location_country_code</th>\n",
       "    </tr>\n",
       "  </thead>\n",
       "  <tbody>\n",
       "    <tr>\n",
       "      <th>0</th>\n",
       "      <td>Wetpaint</td>\n",
       "      <td>Seattle</td>\n",
       "      <td>Washington</td>\n",
       "      <td>USA</td>\n",
       "    </tr>\n",
       "    <tr>\n",
       "      <th>1</th>\n",
       "      <td>Zoho</td>\n",
       "      <td>Pleasanton</td>\n",
       "      <td>California</td>\n",
       "      <td>USA</td>\n",
       "    </tr>\n",
       "    <tr>\n",
       "      <th>2</th>\n",
       "      <td>Digg</td>\n",
       "      <td>New York</td>\n",
       "      <td>New York</td>\n",
       "      <td>USA</td>\n",
       "    </tr>\n",
       "    <tr>\n",
       "      <th>4</th>\n",
       "      <td>Facebook</td>\n",
       "      <td>NaN</td>\n",
       "      <td>NaN</td>\n",
       "      <td>NaN</td>\n",
       "    </tr>\n",
       "    <tr>\n",
       "      <th>8</th>\n",
       "      <td>Omnidrive</td>\n",
       "      <td>Palo Alto</td>\n",
       "      <td>California</td>\n",
       "      <td>USA</td>\n",
       "    </tr>\n",
       "  </tbody>\n",
       "</table>\n",
       "</div>"
      ],
      "text/plain": [
       "        name location_city location_region location_country_code\n",
       "0   Wetpaint       Seattle      Washington                   USA\n",
       "1       Zoho    Pleasanton      California                   USA\n",
       "2       Digg      New York        New York                   USA\n",
       "4   Facebook           NaN             NaN                   NaN\n",
       "8  Omnidrive     Palo Alto      California                   USA"
      ]
     },
     "execution_count": 132,
     "metadata": {},
     "output_type": "execute_result"
    }
   ],
   "source": [
    "private.head()"
   ]
  },
  {
   "cell_type": "code",
   "execution_count": 125,
   "metadata": {
    "collapsed": false
   },
   "outputs": [],
   "source": [
    "private = pd.read_pickle('companies_venture_df.pkl')"
   ]
  },
  {
   "cell_type": "markdown",
   "metadata": {},
   "source": [
    "# full text searching instead of NER"
   ]
  },
  {
   "cell_type": "code",
   "execution_count": 60,
   "metadata": {
    "collapsed": false
   },
   "outputs": [
    {
     "data": {
      "text/plain": [
       "<module 'textual' from 'textual.pyc'>"
      ]
     },
     "execution_count": 60,
     "metadata": {},
     "output_type": "execute_result"
    }
   ],
   "source": [
    "import textual\n",
    "import companies\n",
    "import string\n",
    "from unidecode import unidecode\n",
    "import nltk\n",
    "reload(textual)"
   ]
  },
  {
   "cell_type": "code",
   "execution_count": 128,
   "metadata": {
    "collapsed": false
   },
   "outputs": [],
   "source": [
    "entities = pd.read_pickle('entities_df')\n",
    "ents = entities['entities']\n",
    "texts = entities['raw_text']"
   ]
  },
  {
   "cell_type": "code",
   "execution_count": 133,
   "metadata": {
    "collapsed": false
   },
   "outputs": [
    {
     "name": "stdout",
     "output_type": "stream",
     "text": [
      "\n",
      "SUMMARY: \n",
      "Notice is hereby given of the following determinations: Pursuant to the authority vested in me by the Act of October 19, 1965 (79 Stat. 985; 22 U.S.C. 2459), Executive Order 12047 of March 27, 1978, the Foreign Affairs Reform and Restructuring Act of 1998 (112 Stat. 2681, et seq.; 22 U.S.C. 6501 note, et seq. ), Delegation of Authority No. 234 of October 1, 1999, Delegation of Authority No. 236-3 of August 28, 2000 (and, as appropriate, Delegation of Authority No. 257 of April 15, 2003), I hereby determine that the objects to be included in the exhibition “Girl with a Pearl Earring: Dutch Paintings from the Mauritshuis,” imported from abroad for temporary exhibition within the United States, are of cultural significance. The objects are imported pursuant to loan agreements with the foreign owner or custodian. I also determine that the exhibition or display of the exhibit objects at the Fine Arts Museums of San Francisco, San Francisco, CA, from on or about January 26, 2013, until on or about June 2, 2013; the High Museum of Art, Atlanta, Georgia, from on or about June 23, 2013, until on or about September 29, 2013; The Frick Collection, New York, NY, from on or about October 22, 2013, until on or about January 21, 2014, and at possible additional exhibitions or venues yet to be determined, is in the national interest. I have ordered that Public Notice of these Determinations be published in the Federal Register . \n",
      "FOR FURTHER INFORMATION CONTACT: \n",
      "For further information, including a list of the exhibit objects, contact Julie Simpson, Attorney-Adviser, Office of the Legal Adviser, U.S. Department of State (telephone: 202-632-6467). The mailing address is U.S. Department of State, SA-5, L/PD, Fifth Floor (Suite 5H03), Washington, DC 20522-0505. \n",
      "Dated: December 26, 2012. \n",
      "J. Adam Ereli, \n",
      "Principal Deputy Assistant Secretary,Bureau of Educational and Cultural Affairs,Department of State. \n",
      "[FR Doc. 2012-31548 Filed 12-31-12; 8:45 am] \n",
      "BILLING CODE 4710-05-P \n",
      "\n"
     ]
    }
   ],
   "source": [
    "print texts.ix[0]"
   ]
  },
  {
   "cell_type": "code",
   "execution_count": 142,
   "metadata": {
    "collapsed": false
   },
   "outputs": [
    {
     "name": "stdout",
     "output_type": "stream",
     "text": [
      "York\n",
      "23\n",
      "U.S. Department of State\n",
      "Office\n",
      "State\n",
      "August\n",
      "Stat\n",
      "to be\n",
      "August\n",
      "Reform\n",
      "Collection\n",
      "Office\n",
      ".\n",
      ".\n",
      "Pearl\n",
      "High Museum of Art\n",
      "June\n",
      "Pearl\n"
     ]
    }
   ],
   "source": [
    "text = texts.ix[0]\n",
    "tokens = nltk.word_tokenize(texts.ix[0])\n",
    "for i in private.name.dropna():\n",
    "    if len(i.split()) > 1:\n",
    "        # search original text if company name is more than one word\n",
    "        if text.find(i) != -1: print i\n",
    "    else:\n",
    "        # search tokens if company name is a single word\n",
    "        if i in tokens: print i"
   ]
  },
  {
   "cell_type": "code",
   "execution_count": 143,
   "metadata": {
    "collapsed": false
   },
   "outputs": [
    {
     "name": "stdout",
     "output_type": "stream",
     "text": [
      "York\n",
      "23\n",
      "Office\n",
      "State\n",
      "August\n",
      "Stat\n",
      "to be\n",
      "August\n",
      "Reform\n",
      "Collection\n",
      "Office\n",
      "Pearl\n",
      "High Museum of Art\n",
      "June\n",
      "Pearl\n"
     ]
    }
   ],
   "source": [
    "def smart_find(haystack, needle):\n",
    "    if haystack.startswith(needle+\" \"):\n",
    "        return True\n",
    "    if haystack.endswith(\" \"+needle):\n",
    "        return True\n",
    "    if haystack.find(\" \"+needle+\" \") != -1:\n",
    "        return True\n",
    "    return False\n",
    "\n",
    "text = texts.ix[0]\n",
    "text = unidecode(text).translate(None, string.punctuation)\n",
    "\n",
    "# U.S. state department is missed because of punctuation removal\n",
    "# punctuation must be removed to account for words that end in a period or a comma in the text\n",
    "\n",
    "for i in private.name.dropna():\n",
    "    if smart_find(text, i):\n",
    "        print i"
   ]
  },
  {
   "cell_type": "code",
   "execution_count": 144,
   "metadata": {
    "collapsed": false
   },
   "outputs": [
    {
     "name": "stdout",
     "output_type": "stream",
     "text": [
      "us department of state\n",
      "high museum of art\n"
     ]
    },
    {
     "data": {
      "text/html": [
       "<div>\n",
       "<table border=\"1\" class=\"dataframe\">\n",
       "  <thead>\n",
       "    <tr style=\"text-align: right;\">\n",
       "      <th></th>\n",
       "      <th>name</th>\n",
       "      <th>location_city</th>\n",
       "      <th>location_region</th>\n",
       "      <th>location_country_code</th>\n",
       "    </tr>\n",
       "  </thead>\n",
       "  <tbody>\n",
       "    <tr>\n",
       "      <th>62770</th>\n",
       "      <td>U.S. Department of State</td>\n",
       "      <td>Washington</td>\n",
       "      <td>District of Columbia</td>\n",
       "      <td>USA</td>\n",
       "    </tr>\n",
       "    <tr>\n",
       "      <th>271488</th>\n",
       "      <td>High Museum of Art</td>\n",
       "      <td>Atlanta</td>\n",
       "      <td>Georgia</td>\n",
       "      <td>USA</td>\n",
       "    </tr>\n",
       "  </tbody>\n",
       "</table>\n",
       "</div>"
      ],
      "text/plain": [
       "                            name location_city       location_region  \\\n",
       "62770   U.S. Department of State    Washington  District of Columbia   \n",
       "271488        High Museum of Art       Atlanta               Georgia   \n",
       "\n",
       "       location_country_code  \n",
       "62770                    USA  \n",
       "271488                   USA  "
      ]
     },
     "execution_count": 144,
     "metadata": {},
     "output_type": "execute_result"
    }
   ],
   "source": [
    "terms = {i[0] for i in ents[0] if i[1] in ['ORGANIZATION', 'PERSON']}\n",
    "matched = companies.find_companies(terms)\n",
    "private[private.name.isin(matched)]"
   ]
  },
  {
   "cell_type": "markdown",
   "metadata": {},
   "source": [
    "#public companies"
   ]
  },
  {
   "cell_type": "code",
   "execution_count": 96,
   "metadata": {
    "collapsed": false
   },
   "outputs": [],
   "source": [
    "names = pd.read_csv('data/corpwatch_dump/companies.csv', sep='\\t')\n",
    "names = names[['cw_id', 'cik', 'company_name']]"
   ]
  },
  {
   "cell_type": "code",
   "execution_count": 102,
   "metadata": {
    "collapsed": false
   },
   "outputs": [],
   "source": [
    "locations = pd.read_csv('data/corpwatch_dump/company_locations.csv', sep='\\t')\n",
    "# prioritizes business and mailing address information of state of incorporation info\n",
    "locations = locations.sort(['type', 'date'], ascending=[True, False]).drop_duplicates('cw_id')\n",
    "locations = locations[['cw_id', u'city', 'country_code', u'subdiv_code']]"
   ]
  },
  {
   "cell_type": "code",
   "execution_count": 103,
   "metadata": {
    "collapsed": false
   },
   "outputs": [],
   "source": [
    "names_loc = pd.merge(names, locations, how='left')"
   ]
  },
  {
   "cell_type": "code",
   "execution_count": 109,
   "metadata": {
    "collapsed": false
   },
   "outputs": [],
   "source": [
    "info = pd.read_csv('data/corpwatch_dump/company_info.csv', sep='\\t')\n",
    "info = info.sort('year', ascending=False).drop_duplicates('cw_id')\n",
    "info = info[['cw_id', 'industry_name', 'sector_name']]"
   ]
  },
  {
   "cell_type": "code",
   "execution_count": 110,
   "metadata": {
    "collapsed": false
   },
   "outputs": [],
   "source": [
    "names_loc_info = pd.merge(names_loc, info, how='left')"
   ]
  },
  {
   "cell_type": "code",
   "execution_count": 116,
   "metadata": {
    "collapsed": true
   },
   "outputs": [],
   "source": [
    "tickers = pd.read_csv('data/rank_and_filed_tickers_dump/cik_ticker.csv', sep='|')\n",
    "tickers = tickers[['CIK', 'Ticker']]\n",
    "tickers.columns = ['cik', 'ticker']"
   ]
  },
  {
   "cell_type": "code",
   "execution_count": 117,
   "metadata": {
    "collapsed": false
   },
   "outputs": [],
   "source": [
    "public_companies = pd.merge(names_loc_info, tickers, how='left')"
   ]
  },
  {
   "cell_type": "code",
   "execution_count": 131,
   "metadata": {
    "collapsed": false
   },
   "outputs": [
    {
     "data": {
      "text/html": [
       "<div>\n",
       "<table border=\"1\" class=\"dataframe\">\n",
       "  <thead>\n",
       "    <tr style=\"text-align: right;\">\n",
       "      <th></th>\n",
       "      <th>cw_id</th>\n",
       "      <th>cik</th>\n",
       "      <th>company_name</th>\n",
       "      <th>city</th>\n",
       "      <th>country_code</th>\n",
       "      <th>subdiv_code</th>\n",
       "      <th>industry_name</th>\n",
       "      <th>sector_name</th>\n",
       "      <th>ticker</th>\n",
       "    </tr>\n",
       "  </thead>\n",
       "  <tbody>\n",
       "    <tr>\n",
       "      <th>0</th>\n",
       "      <td>781188</td>\n",
       "      <td>13</td>\n",
       "      <td>CORPORATE INCOME FUND SEVENTY NINTH SHORT TERM...</td>\n",
       "      <td>NEW YORK</td>\n",
       "      <td>US</td>\n",
       "      <td>NY</td>\n",
       "      <td>NaN</td>\n",
       "      <td>NaN</td>\n",
       "      <td>NaN</td>\n",
       "    </tr>\n",
       "    <tr>\n",
       "      <th>1</th>\n",
       "      <td>1</td>\n",
       "      <td>20</td>\n",
       "      <td>K TRON INTERNATIONAL INC</td>\n",
       "      <td>PITMAN</td>\n",
       "      <td>US</td>\n",
       "      <td>NJ</td>\n",
       "      <td>Industrial instruments for measurement, displa...</td>\n",
       "      <td>Instruments and related products</td>\n",
       "      <td>KTII</td>\n",
       "    </tr>\n",
       "    <tr>\n",
       "      <th>2</th>\n",
       "      <td>2</td>\n",
       "      <td>1750</td>\n",
       "      <td>AAR CORP</td>\n",
       "      <td>WOOD DALE</td>\n",
       "      <td>US</td>\n",
       "      <td>IL</td>\n",
       "      <td>Aircraft &amp; parts</td>\n",
       "      <td>Transportation equipment</td>\n",
       "      <td>AIR</td>\n",
       "    </tr>\n",
       "    <tr>\n",
       "      <th>3</th>\n",
       "      <td>3</td>\n",
       "      <td>1800</td>\n",
       "      <td>ABBOTT LABORATORIES</td>\n",
       "      <td>ABBOTT PARK</td>\n",
       "      <td>US</td>\n",
       "      <td>IL</td>\n",
       "      <td>Pharmaceutical preparations</td>\n",
       "      <td>Chemicals and allied products</td>\n",
       "      <td>ABT</td>\n",
       "    </tr>\n",
       "    <tr>\n",
       "      <th>4</th>\n",
       "      <td>4</td>\n",
       "      <td>1841</td>\n",
       "      <td>ABEL NOSER CORP</td>\n",
       "      <td>NEW YORK</td>\n",
       "      <td>US</td>\n",
       "      <td>NY</td>\n",
       "      <td>NaN</td>\n",
       "      <td>NaN</td>\n",
       "      <td>NaN</td>\n",
       "    </tr>\n",
       "  </tbody>\n",
       "</table>\n",
       "</div>"
      ],
      "text/plain": [
       "    cw_id   cik                                       company_name  \\\n",
       "0  781188    13  CORPORATE INCOME FUND SEVENTY NINTH SHORT TERM...   \n",
       "1       1    20                           K TRON INTERNATIONAL INC   \n",
       "2       2  1750                                           AAR CORP   \n",
       "3       3  1800                                ABBOTT LABORATORIES   \n",
       "4       4  1841                                    ABEL NOSER CORP   \n",
       "\n",
       "          city country_code subdiv_code  \\\n",
       "0     NEW YORK           US          NY   \n",
       "1       PITMAN           US          NJ   \n",
       "2    WOOD DALE           US          IL   \n",
       "3  ABBOTT PARK           US          IL   \n",
       "4     NEW YORK           US          NY   \n",
       "\n",
       "                                       industry_name  \\\n",
       "0                                                NaN   \n",
       "1  Industrial instruments for measurement, displa...   \n",
       "2                                   Aircraft & parts   \n",
       "3                        Pharmaceutical preparations   \n",
       "4                                                NaN   \n",
       "\n",
       "                        sector_name ticker  \n",
       "0                               NaN    NaN  \n",
       "1  Instruments and related products   KTII  \n",
       "2          Transportation equipment    AIR  \n",
       "3     Chemicals and allied products    ABT  \n",
       "4                               NaN    NaN  "
      ]
     },
     "execution_count": 131,
     "metadata": {},
     "output_type": "execute_result"
    }
   ],
   "source": [
    "public_companies.head()"
   ]
  },
  {
   "cell_type": "code",
   "execution_count": 119,
   "metadata": {
    "collapsed": true
   },
   "outputs": [],
   "source": [
    "public_companies.to_pickle('companies_public_df.pkl')"
   ]
  }
 ],
 "metadata": {
  "kernelspec": {
   "display_name": "Python 2",
   "language": "python",
   "name": "python2"
  },
  "language_info": {
   "codemirror_mode": {
    "name": "ipython",
    "version": 2
   },
   "file_extension": ".py",
   "mimetype": "text/x-python",
   "name": "python",
   "nbconvert_exporter": "python",
   "pygments_lexer": "ipython2",
   "version": "2.7.10"
  }
 },
 "nbformat": 4,
 "nbformat_minor": 0
}
