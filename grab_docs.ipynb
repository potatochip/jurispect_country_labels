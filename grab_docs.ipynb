{
 "cells": [
  {
   "cell_type": "code",
   "execution_count": 1,
   "metadata": {
    "collapsed": false
   },
   "outputs": [],
   "source": [
    "import requests\n",
    "import pandas as pd\n",
    "from multiprocessing import Pool\n",
    "from progressbar import ProgressBar\n",
    "from unidecode import unidecode"
   ]
  },
  {
   "cell_type": "code",
   "execution_count": 2,
   "metadata": {
    "collapsed": false
   },
   "outputs": [],
   "source": [
    "call = 'http://www.federalregister.gov/api/v1/articles.json?fields%5B%5D=raw_text_url&fields%5B%5D=title&fields%5B%5D=toc_subject&fields%5B%5D=topics&per_page=1000&order=oldest&conditions%5Bpublication_date%5D%5Bgte%5D=2013-01-01&conditions%5Bagencies%5D%5B%5D=commerce-department&conditions%5Bagencies%5D%5B%5D=state-department&conditions%5Bagencies%5D%5B%5D=treasury-department'\n",
    "r = requests.get(call)"
   ]
  },
  {
   "cell_type": "code",
   "execution_count": 3,
   "metadata": {
    "collapsed": false
   },
   "outputs": [
    {
     "name": "stdout",
     "output_type": "stream",
     "text": [
      "Documents published on or after 01/01/2013 and from Commerce Department, State Department, or Treasury Department\n",
      "10877\n"
     ]
    }
   ],
   "source": [
    "# bug where api only returns last 10,000 documents in spite of there being 10,877 within the search range\n",
    "# fork api and correct\n",
    "\n",
    "print r.json()['description']\n",
    "print r.json()['count']\n",
    "df = pd.DataFrame(r.json()['results'])"
   ]
  },
  {
   "cell_type": "code",
   "execution_count": 4,
   "metadata": {
    "collapsed": false
   },
   "outputs": [
    {
     "name": "stdout",
     "output_type": "stream",
     "text": [
      "<Response [200]>\n",
      "<Response [200]>\n",
      "<Response [200]>\n",
      "<Response [200]>\n",
      "<Response [200]>\n",
      "<Response [200]>\n",
      "<Response [200]>\n",
      "<Response [200]>\n",
      "<Response [200]>\n"
     ]
    }
   ],
   "source": [
    "while 'next_page_url' in r.json():\n",
    "    next_page = r.json()['next_page_url']\n",
    "    r = requests.get(next_page)\n",
    "    print r\n",
    "    df = pd.concat([df, pd.DataFrame(r.json()['results'])], ignore_index=True)"
   ]
  },
  {
   "cell_type": "code",
   "execution_count": 5,
   "metadata": {
    "collapsed": false
   },
   "outputs": [],
   "source": [
    "def grab_text(url):\n",
    "    r = requests.get(url)\n",
    "    r.encoding = 'utf-8'\n",
    "    text = r.text\n",
    "    return text"
   ]
  },
  {
   "cell_type": "code",
   "execution_count": 7,
   "metadata": {
    "collapsed": false
   },
   "outputs": [
    {
     "data": {
      "text/html": [
       "<div>\n",
       "<table border=\"1\" class=\"dataframe\">\n",
       "  <thead>\n",
       "    <tr style=\"text-align: right;\">\n",
       "      <th></th>\n",
       "      <th>raw_text_url</th>\n",
       "      <th>title</th>\n",
       "      <th>toc_subject</th>\n",
       "      <th>topics</th>\n",
       "    </tr>\n",
       "  </thead>\n",
       "  <tbody>\n",
       "    <tr>\n",
       "      <th>0</th>\n",
       "      <td>https://www.federalregister.gov/articles/text/...</td>\n",
       "      <td>Culturally Significant Objects Imported for Ex...</td>\n",
       "      <td>Culturally Significant Objects Imported for Ex...</td>\n",
       "      <td>[]</td>\n",
       "    </tr>\n",
       "    <tr>\n",
       "      <th>1</th>\n",
       "      <td>https://www.federalregister.gov/articles/text/...</td>\n",
       "      <td>Proposed Collection: Comment Request</td>\n",
       "      <td>None</td>\n",
       "      <td>[]</td>\n",
       "    </tr>\n",
       "    <tr>\n",
       "      <th>2</th>\n",
       "      <td>https://www.federalregister.gov/articles/text/...</td>\n",
       "      <td>National Medal of Technology and Innovation Ca...</td>\n",
       "      <td>Calls for Nominations:</td>\n",
       "      <td>[]</td>\n",
       "    </tr>\n",
       "    <tr>\n",
       "      <th>3</th>\n",
       "      <td>https://www.federalregister.gov/articles/text/...</td>\n",
       "      <td>Additional Designations of Individuals Pursuan...</td>\n",
       "      <td>Blocking or Unblocking of Persons and Property:</td>\n",
       "      <td>[]</td>\n",
       "    </tr>\n",
       "    <tr>\n",
       "      <th>4</th>\n",
       "      <td>https://www.federalregister.gov/articles/text/...</td>\n",
       "      <td>Fisheries of the Northeastern United States; S...</td>\n",
       "      <td>Fisheries of the Northeastern United States:</td>\n",
       "      <td>[]</td>\n",
       "    </tr>\n",
       "  </tbody>\n",
       "</table>\n",
       "</div>"
      ],
      "text/plain": [
       "                                        raw_text_url  \\\n",
       "0  https://www.federalregister.gov/articles/text/...   \n",
       "1  https://www.federalregister.gov/articles/text/...   \n",
       "2  https://www.federalregister.gov/articles/text/...   \n",
       "3  https://www.federalregister.gov/articles/text/...   \n",
       "4  https://www.federalregister.gov/articles/text/...   \n",
       "\n",
       "                                               title  \\\n",
       "0  Culturally Significant Objects Imported for Ex...   \n",
       "1               Proposed Collection: Comment Request   \n",
       "2  National Medal of Technology and Innovation Ca...   \n",
       "3  Additional Designations of Individuals Pursuan...   \n",
       "4  Fisheries of the Northeastern United States; S...   \n",
       "\n",
       "                                         toc_subject topics  \n",
       "0  Culturally Significant Objects Imported for Ex...     []  \n",
       "1                                               None     []  \n",
       "2                             Calls for Nominations:     []  \n",
       "3    Blocking or Unblocking of Persons and Property:     []  \n",
       "4       Fisheries of the Northeastern United States:     []  "
      ]
     },
     "execution_count": 7,
     "metadata": {},
     "output_type": "execute_result"
    }
   ],
   "source": [
    "df.head()"
   ]
  },
  {
   "cell_type": "code",
   "execution_count": 8,
   "metadata": {
    "collapsed": false
   },
   "outputs": [
    {
     "data": {
      "text/plain": [
       "(10000, 4)"
      ]
     },
     "execution_count": 8,
     "metadata": {},
     "output_type": "execute_result"
    }
   ],
   "source": [
    "df.shape"
   ]
  },
  {
   "cell_type": "code",
   "execution_count": 9,
   "metadata": {
    "collapsed": false
   },
   "outputs": [],
   "source": [
    "pool = Pool()\n",
    "results = pool.map(grab_text, df.raw_text_url.tolist())\n",
    "pool.close()"
   ]
  },
  {
   "cell_type": "code",
   "execution_count": 10,
   "metadata": {
    "collapsed": false
   },
   "outputs": [],
   "source": [
    "df['raw_text'] = results"
   ]
  },
  {
   "cell_type": "code",
   "execution_count": 11,
   "metadata": {
    "collapsed": false
   },
   "outputs": [],
   "source": [
    "df.to_pickle('docs_df')"
   ]
  },
  {
   "cell_type": "code",
   "execution_count": 6,
   "metadata": {
    "collapsed": true
   },
   "outputs": [],
   "source": [
    "r = requests.get('http://www.federalregister.gov/api/v1/agencies')"
   ]
  },
  {
   "cell_type": "code",
   "execution_count": 15,
   "metadata": {
    "collapsed": false
   },
   "outputs": [],
   "source": [
    "agencies = pd.DataFrame(r.json())[['name', 'short_name', 'description']]"
   ]
  },
  {
   "cell_type": "code",
   "execution_count": 17,
   "metadata": {
    "collapsed": false
   },
   "outputs": [],
   "source": [
    "agencies.to_pickle('agencies_df')"
   ]
  },
  {
   "cell_type": "code",
   "execution_count": null,
   "metadata": {
    "collapsed": true
   },
   "outputs": [],
   "source": []
  }
 ],
 "metadata": {
  "kernelspec": {
   "display_name": "Python 2",
   "language": "python",
   "name": "python2"
  },
  "language_info": {
   "codemirror_mode": {
    "name": "ipython",
    "version": 2
   },
   "file_extension": ".py",
   "mimetype": "text/x-python",
   "name": "python",
   "nbconvert_exporter": "python",
   "pygments_lexer": "ipython2",
   "version": "2.7.10"
  }
 },
 "nbformat": 4,
 "nbformat_minor": 0
}
