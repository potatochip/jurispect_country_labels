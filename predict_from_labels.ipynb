{
 "cells": [
  {
   "cell_type": "code",
   "execution_count": 39,
   "metadata": {
    "collapsed": false
   },
   "outputs": [],
   "source": [
    "import pandas as pd\n",
    "import numpy as np\n",
    "from sklearn.feature_extraction.text import TfidfVectorizer\n",
    "from nltk.corpus import stopwords\n",
    "from sklearn.externals import joblib\n",
    "from sklearn.svm import LinearSVC\n",
    "from sklearn.metrics import classification_report\n",
    "from sklearn.calibration import CalibratedClassifierCV\n",
    "from sklearn.decomposition import TruncatedSVD"
   ]
  },
  {
   "cell_type": "code",
   "execution_count": 52,
   "metadata": {
    "collapsed": false
   },
   "outputs": [],
   "source": [
    "labels = pd.read_pickle('labels_df')"
   ]
  },
  {
   "cell_type": "code",
   "execution_count": 54,
   "metadata": {
    "collapsed": false
   },
   "outputs": [
    {
     "data": {
      "text/plain": [
       "{u'China': {'count': 2, 'probability': 1.0},\n",
       " u'Colombia': {'count': 1, 'probability': 0.25},\n",
       " u'Russian Federation': {'count': 1, 'probability': 0.16666666666666666},\n",
       " u'United Kingdom': {'count': 1, 'probability': 0.25},\n",
       " u'United States': {'count': 9, 'probability': 1.0}}"
      ]
     },
     "execution_count": 54,
     "metadata": {},
     "output_type": "execute_result"
    }
   ],
   "source": [
    "labels.ix[14].countries"
   ]
  },
  {
   "cell_type": "code",
   "execution_count": 55,
   "metadata": {
    "collapsed": false
   },
   "outputs": [],
   "source": [
    "sample = labels.ix[0:10]"
   ]
  },
  {
   "cell_type": "code",
   "execution_count": 56,
   "metadata": {
    "collapsed": false
   },
   "outputs": [],
   "source": [
    "explode_probabilities = lambda x: pd.Series({j: k['probability'] for j, k in x.items()})\n",
    "\n",
    "labels = pd.concat([labels, labels.countries.apply(explode_probabilities)], axis=1)"
   ]
  },
  {
   "cell_type": "code",
   "execution_count": 57,
   "metadata": {
    "collapsed": false
   },
   "outputs": [],
   "source": [
    "non_country_columns = ['raw_text_url', 'title', 'toc_subject', 'topics', 'raw_text', 'entities', 'countries']\n",
    "country_columns = sorted(list(set(labels.columns.tolist()) - set(non_country_columns)))"
   ]
  },
  {
   "cell_type": "code",
   "execution_count": 58,
   "metadata": {
    "collapsed": false
   },
   "outputs": [
    {
     "data": {
      "text/html": [
       "<div>\n",
       "<table border=\"1\" class=\"dataframe\">\n",
       "  <thead>\n",
       "    <tr style=\"text-align: right;\">\n",
       "      <th></th>\n",
       "      <th>raw_text_url</th>\n",
       "      <th>title</th>\n",
       "      <th>toc_subject</th>\n",
       "      <th>topics</th>\n",
       "      <th>raw_text</th>\n",
       "      <th>entities</th>\n",
       "      <th>countries</th>\n",
       "      <th>Afghanistan</th>\n",
       "      <th>Albania</th>\n",
       "      <th>Algeria</th>\n",
       "      <th>...</th>\n",
       "      <th>Uruguay</th>\n",
       "      <th>Uzbekistan</th>\n",
       "      <th>Vanuatu</th>\n",
       "      <th>Venezuela, Bolivarian Republic of</th>\n",
       "      <th>Viet Nam</th>\n",
       "      <th>Virgin Islands, British</th>\n",
       "      <th>Virgin Islands, U.S.</th>\n",
       "      <th>Yemen</th>\n",
       "      <th>Zambia</th>\n",
       "      <th>Zimbabwe</th>\n",
       "    </tr>\n",
       "  </thead>\n",
       "  <tbody>\n",
       "    <tr>\n",
       "      <th>0</th>\n",
       "      <td>https://www.federalregister.gov/articles/text/...</td>\n",
       "      <td>Culturally Significant Objects Imported for Ex...</td>\n",
       "      <td>Culturally Significant Objects Imported for Ex...</td>\n",
       "      <td>[]</td>\n",
       "      <td>\\nSUMMARY: \\nNotice is hereby given of the fol...</td>\n",
       "      <td>[(Mauritshuis, ORGANIZATION), (United States, ...</td>\n",
       "      <td>{u'Canada': {u'count': 1, u'probability': 0.07...</td>\n",
       "      <td>NaN</td>\n",
       "      <td>NaN</td>\n",
       "      <td>NaN</td>\n",
       "      <td>...</td>\n",
       "      <td>0.071429</td>\n",
       "      <td>NaN</td>\n",
       "      <td>NaN</td>\n",
       "      <td>0.071429</td>\n",
       "      <td>NaN</td>\n",
       "      <td>NaN</td>\n",
       "      <td>NaN</td>\n",
       "      <td>NaN</td>\n",
       "      <td>NaN</td>\n",
       "      <td>NaN</td>\n",
       "    </tr>\n",
       "    <tr>\n",
       "      <th>1</th>\n",
       "      <td>https://www.federalregister.gov/articles/text/...</td>\n",
       "      <td>Proposed Collection: Comment Request</td>\n",
       "      <td>None</td>\n",
       "      <td>[]</td>\n",
       "      <td>\\nACTION: \\nNotice and request for comments. \\...</td>\n",
       "      <td>[(Treasury, ORGANIZATION), (Treasury, ORGANIZA...</td>\n",
       "      <td>{u'United States': {u'count': 2, u'probability...</td>\n",
       "      <td>NaN</td>\n",
       "      <td>NaN</td>\n",
       "      <td>NaN</td>\n",
       "      <td>...</td>\n",
       "      <td>NaN</td>\n",
       "      <td>NaN</td>\n",
       "      <td>NaN</td>\n",
       "      <td>NaN</td>\n",
       "      <td>NaN</td>\n",
       "      <td>NaN</td>\n",
       "      <td>NaN</td>\n",
       "      <td>NaN</td>\n",
       "      <td>NaN</td>\n",
       "      <td>NaN</td>\n",
       "    </tr>\n",
       "    <tr>\n",
       "      <th>2</th>\n",
       "      <td>https://www.federalregister.gov/articles/text/...</td>\n",
       "      <td>National Medal of Technology and Innovation Ca...</td>\n",
       "      <td>Calls for Nominations:</td>\n",
       "      <td>[]</td>\n",
       "      <td>\\nACTION: \\nNotice and request for nominations...</td>\n",
       "      <td>[(Department of Commerce, ORGANIZATION), (Unit...</td>\n",
       "      <td>{u'Canada': {u'count': 1, u'probability': 0.08...</td>\n",
       "      <td>NaN</td>\n",
       "      <td>NaN</td>\n",
       "      <td>NaN</td>\n",
       "      <td>...</td>\n",
       "      <td>NaN</td>\n",
       "      <td>NaN</td>\n",
       "      <td>NaN</td>\n",
       "      <td>NaN</td>\n",
       "      <td>NaN</td>\n",
       "      <td>NaN</td>\n",
       "      <td>NaN</td>\n",
       "      <td>NaN</td>\n",
       "      <td>NaN</td>\n",
       "      <td>NaN</td>\n",
       "    </tr>\n",
       "    <tr>\n",
       "      <th>3</th>\n",
       "      <td>https://www.federalregister.gov/articles/text/...</td>\n",
       "      <td>Additional Designations of Individuals Pursuan...</td>\n",
       "      <td>Blocking or Unblocking of Persons and Property:</td>\n",
       "      <td>[]</td>\n",
       "      <td>\\nACTION: \\nNotice. \\nSUMMARY: \\nThe U.S. Depa...</td>\n",
       "      <td>[(U.S. Department of the Treasury, ORGANIZATIO...</td>\n",
       "      <td>{u'United Kingdom': {u'count': 1, u'probabilit...</td>\n",
       "      <td>NaN</td>\n",
       "      <td>NaN</td>\n",
       "      <td>NaN</td>\n",
       "      <td>...</td>\n",
       "      <td>NaN</td>\n",
       "      <td>NaN</td>\n",
       "      <td>NaN</td>\n",
       "      <td>NaN</td>\n",
       "      <td>NaN</td>\n",
       "      <td>NaN</td>\n",
       "      <td>NaN</td>\n",
       "      <td>NaN</td>\n",
       "      <td>NaN</td>\n",
       "      <td>NaN</td>\n",
       "    </tr>\n",
       "    <tr>\n",
       "      <th>4</th>\n",
       "      <td>https://www.federalregister.gov/articles/text/...</td>\n",
       "      <td>Fisheries of the Northeastern United States; S...</td>\n",
       "      <td>Fisheries of the Northeastern United States:</td>\n",
       "      <td>[]</td>\n",
       "      <td>\\nACTION: \\nTemporary rule; quota transfer. \\n...</td>\n",
       "      <td>[(NMFS, ORGANIZATION), (North Carolina, LOCATI...</td>\n",
       "      <td>{u'United States': {u'count': 7, u'probability...</td>\n",
       "      <td>NaN</td>\n",
       "      <td>NaN</td>\n",
       "      <td>NaN</td>\n",
       "      <td>...</td>\n",
       "      <td>NaN</td>\n",
       "      <td>NaN</td>\n",
       "      <td>NaN</td>\n",
       "      <td>NaN</td>\n",
       "      <td>NaN</td>\n",
       "      <td>NaN</td>\n",
       "      <td>NaN</td>\n",
       "      <td>NaN</td>\n",
       "      <td>NaN</td>\n",
       "      <td>NaN</td>\n",
       "    </tr>\n",
       "  </tbody>\n",
       "</table>\n",
       "<p>5 rows × 235 columns</p>\n",
       "</div>"
      ],
      "text/plain": [
       "                                        raw_text_url  \\\n",
       "0  https://www.federalregister.gov/articles/text/...   \n",
       "1  https://www.federalregister.gov/articles/text/...   \n",
       "2  https://www.federalregister.gov/articles/text/...   \n",
       "3  https://www.federalregister.gov/articles/text/...   \n",
       "4  https://www.federalregister.gov/articles/text/...   \n",
       "\n",
       "                                               title  \\\n",
       "0  Culturally Significant Objects Imported for Ex...   \n",
       "1               Proposed Collection: Comment Request   \n",
       "2  National Medal of Technology and Innovation Ca...   \n",
       "3  Additional Designations of Individuals Pursuan...   \n",
       "4  Fisheries of the Northeastern United States; S...   \n",
       "\n",
       "                                         toc_subject topics  \\\n",
       "0  Culturally Significant Objects Imported for Ex...     []   \n",
       "1                                               None     []   \n",
       "2                             Calls for Nominations:     []   \n",
       "3    Blocking or Unblocking of Persons and Property:     []   \n",
       "4       Fisheries of the Northeastern United States:     []   \n",
       "\n",
       "                                            raw_text  \\\n",
       "0  \\nSUMMARY: \\nNotice is hereby given of the fol...   \n",
       "1  \\nACTION: \\nNotice and request for comments. \\...   \n",
       "2  \\nACTION: \\nNotice and request for nominations...   \n",
       "3  \\nACTION: \\nNotice. \\nSUMMARY: \\nThe U.S. Depa...   \n",
       "4  \\nACTION: \\nTemporary rule; quota transfer. \\n...   \n",
       "\n",
       "                                            entities  \\\n",
       "0  [(Mauritshuis, ORGANIZATION), (United States, ...   \n",
       "1  [(Treasury, ORGANIZATION), (Treasury, ORGANIZA...   \n",
       "2  [(Department of Commerce, ORGANIZATION), (Unit...   \n",
       "3  [(U.S. Department of the Treasury, ORGANIZATIO...   \n",
       "4  [(NMFS, ORGANIZATION), (North Carolina, LOCATI...   \n",
       "\n",
       "                                           countries  Afghanistan  Albania  \\\n",
       "0  {u'Canada': {u'count': 1, u'probability': 0.07...          NaN      NaN   \n",
       "1  {u'United States': {u'count': 2, u'probability...          NaN      NaN   \n",
       "2  {u'Canada': {u'count': 1, u'probability': 0.08...          NaN      NaN   \n",
       "3  {u'United Kingdom': {u'count': 1, u'probabilit...          NaN      NaN   \n",
       "4  {u'United States': {u'count': 7, u'probability...          NaN      NaN   \n",
       "\n",
       "   Algeria    ...      Uruguay  Uzbekistan  Vanuatu  \\\n",
       "0      NaN    ...     0.071429         NaN      NaN   \n",
       "1      NaN    ...          NaN         NaN      NaN   \n",
       "2      NaN    ...          NaN         NaN      NaN   \n",
       "3      NaN    ...          NaN         NaN      NaN   \n",
       "4      NaN    ...          NaN         NaN      NaN   \n",
       "\n",
       "   Venezuela, Bolivarian Republic of  Viet Nam  Virgin Islands, British  \\\n",
       "0                           0.071429       NaN                      NaN   \n",
       "1                                NaN       NaN                      NaN   \n",
       "2                                NaN       NaN                      NaN   \n",
       "3                                NaN       NaN                      NaN   \n",
       "4                                NaN       NaN                      NaN   \n",
       "\n",
       "   Virgin Islands, U.S.  Yemen  Zambia  Zimbabwe  \n",
       "0                   NaN    NaN     NaN       NaN  \n",
       "1                   NaN    NaN     NaN       NaN  \n",
       "2                   NaN    NaN     NaN       NaN  \n",
       "3                   NaN    NaN     NaN       NaN  \n",
       "4                   NaN    NaN     NaN       NaN  \n",
       "\n",
       "[5 rows x 235 columns]"
      ]
     },
     "execution_count": 58,
     "metadata": {},
     "output_type": "execute_result"
    }
   ],
   "source": [
    "labels.head()"
   ]
  },
  {
   "cell_type": "code",
   "execution_count": 59,
   "metadata": {
    "collapsed": false
   },
   "outputs": [],
   "source": [
    "stopped = stopwords.words('english')"
   ]
  },
  {
   "cell_type": "code",
   "execution_count": 60,
   "metadata": {
    "collapsed": false
   },
   "outputs": [],
   "source": [
    "labels[['title', 'toc_subject']] = labels[['title', 'toc_subject']].fillna('')\n",
    "documents = labels.title + ' ' + labels.toc_subject + ' ' + labels.topics.apply(lambda x: ' '.join(x)) + labels.raw_text\n",
    "\n",
    "vec = TfidfVectorizer(sublinear_tf=True, ngram_range=(1,3), stop_words=stopped)\n",
    "\n",
    "# tfidf vectorizer automatically normalizes\n",
    "# tfidf = vec.fit_transform(documents.tolist())\n",
    "\n",
    "# joblib.dump(tfidf, 'tfidf.pkl')\n",
    "tfidf = joblib.load('tfidf.pkl')"
   ]
  },
  {
   "cell_type": "code",
   "execution_count": 61,
   "metadata": {
    "collapsed": false
   },
   "outputs": [],
   "source": [
    "svd = TruncatedSVD(n_components=100, random_state=42)\n",
    "# lsa = svd.fit_transform(tfidf)\n",
    "# joblib.dump(lsa, 'lsa.pkl')\n",
    "lsa = joblib.load('lsa.pkl')"
   ]
  },
  {
   "cell_type": "code",
   "execution_count": 62,
   "metadata": {
    "collapsed": false
   },
   "outputs": [],
   "source": [
    "def probability_model(country):\n",
    "    # filling in the blanks with a predictive model\n",
    "#     X = tfidf\n",
    "    X = lsa # lose some accuracy to speed things up\n",
    "    est = LinearSVC(penalty='l1', dual=False)\n",
    "    est = CalibratedClassifierCV(est, cv=3) # increase cv for better accuracy\n",
    "    y = labels[country].apply(lambda x: 1 if x>0.5 else 0)\n",
    "    try:\n",
    "        est.fit(X, y)\n",
    "        prediction = est.predict(X)\n",
    "        t = labels[[country]]\n",
    "        t['labeled_class'] = y\n",
    "        t['predicted_class'] = prediction\n",
    "        t['probability'] = [i[1] for i in est.predict_proba(X)]\n",
    "    #     temp = t[(t['predicted_class'] == 1) & (t['labeled_class']== 0)]\n",
    "    #     print classification_report(y, prediction)\n",
    "    #     print temp.shape\n",
    "    #     print temp\n",
    "        return t.probability\n",
    "    except Exception as e:\n",
    "        print(country, e)\n",
    "        return y"
   ]
  },
  {
   "cell_type": "code",
   "execution_count": 63,
   "metadata": {
    "collapsed": false,
    "scrolled": true
   },
   "outputs": [
    {
     "name": "stderr",
     "output_type": "stream",
     "text": [
      "/Users/amangum/anaconda/envs/datasci/lib/python2.7/site-packages/IPython/kernel/__main__.py:12: SettingWithCopyWarning: \n",
      "A value is trying to be set on a copy of a slice from a DataFrame.\n",
      "Try using .loc[row_indexer,col_indexer] = value instead\n",
      "\n",
      "See the the caveats in the documentation: http://pandas.pydata.org/pandas-docs/stable/indexing.html#indexing-view-versus-copy\n",
      "/Users/amangum/anaconda/envs/datasci/lib/python2.7/site-packages/IPython/kernel/__main__.py:13: SettingWithCopyWarning: \n",
      "A value is trying to be set on a copy of a slice from a DataFrame.\n",
      "Try using .loc[row_indexer,col_indexer] = value instead\n",
      "\n",
      "See the the caveats in the documentation: http://pandas.pydata.org/pandas-docs/stable/indexing.html#indexing-view-versus-copy\n"
     ]
    },
    {
     "name": "stdout",
     "output_type": "stream",
     "text": [
      "(u'Andorra', ValueError('Requesting 3-fold cross-validation but provided less than 3 examples for at least one class.',))\n",
      "(u'Bhutan', ValueError('Requesting 3-fold cross-validation but provided less than 3 examples for at least one class.',))\n",
      "(u'Bosnia and Herzegovina', ValueError('Requesting 3-fold cross-validation but provided less than 3 examples for at least one class.',))\n",
      "(u'Botswana', ValueError('Requesting 3-fold cross-validation but provided less than 3 examples for at least one class.',))\n",
      "(u'Faroe Islands', ValueError('Requesting 3-fold cross-validation but provided less than 3 examples for at least one class.',))\n",
      "(u'Holy See (Vatican City State)', ValueError('This solver needs samples of at least 2 classes in the data, but the data contains only one class: 0',))\n",
      "(u'Jersey', ValueError('Requesting 3-fold cross-validation but provided less than 3 examples for at least one class.',))\n",
      "(u'Lesotho', ValueError('Requesting 3-fold cross-validation but provided less than 3 examples for at least one class.',))\n",
      "(u'Macao', ValueError('Requesting 3-fold cross-validation but provided less than 3 examples for at least one class.',))\n",
      "(u'Malawi', ValueError('Requesting 3-fold cross-validation but provided less than 3 examples for at least one class.',))\n",
      "(u'Nepal', ValueError('Requesting 3-fold cross-validation but provided less than 3 examples for at least one class.',))\n",
      "(u'Saint Kitts and Nevis', ValueError('Requesting 3-fold cross-validation but provided less than 3 examples for at least one class.',))\n",
      "(u'Saint Martin', ValueError('This solver needs samples of at least 2 classes in the data, but the data contains only one class: 0',))\n",
      "(u'Saint Martin (French Part)', ValueError('Requesting 3-fold cross-validation but provided less than 3 examples for at least one class.',))\n",
      "(u'San Marino', ValueError('Requesting 3-fold cross-validation but provided less than 3 examples for at least one class.',))\n"
     ]
    },
    {
     "name": "stderr",
     "output_type": "stream",
     "text": [
      "/Users/amangum/anaconda/envs/datasci/lib/python2.7/site-packages/IPython/kernel/__main__.py:14: SettingWithCopyWarning: \n",
      "A value is trying to be set on a copy of a slice from a DataFrame.\n",
      "Try using .loc[row_indexer,col_indexer] = value instead\n",
      "\n",
      "See the the caveats in the documentation: http://pandas.pydata.org/pandas-docs/stable/indexing.html#indexing-view-versus-copy\n"
     ]
    }
   ],
   "source": [
    "for country in country_columns:\n",
    "    t = probability_model(country)\n",
    "\n",
    "    # keep the original probability where greater than the modeled probability\n",
    "    labels[country] = labels[country].where(labels[country] > t, t)\n",
    "    \n",
    "    # returns errors where not enough pre-labeled data for that country"
   ]
  },
  {
   "cell_type": "code",
   "execution_count": 64,
   "metadata": {
    "collapsed": false
   },
   "outputs": [],
   "source": [
    "labels = labels.rename(columns={'countries':'pre-labeled countries'})"
   ]
  },
  {
   "cell_type": "code",
   "execution_count": 65,
   "metadata": {
    "collapsed": false
   },
   "outputs": [
    {
     "data": {
      "text/html": [
       "<div>\n",
       "<table border=\"1\" class=\"dataframe\">\n",
       "  <thead>\n",
       "    <tr style=\"text-align: right;\">\n",
       "      <th></th>\n",
       "      <th>raw_text_url</th>\n",
       "      <th>title</th>\n",
       "      <th>toc_subject</th>\n",
       "      <th>topics</th>\n",
       "      <th>raw_text</th>\n",
       "      <th>entities</th>\n",
       "      <th>pre-labeled countries</th>\n",
       "      <th>Afghanistan</th>\n",
       "      <th>Albania</th>\n",
       "      <th>Algeria</th>\n",
       "      <th>...</th>\n",
       "      <th>Uruguay</th>\n",
       "      <th>Uzbekistan</th>\n",
       "      <th>Vanuatu</th>\n",
       "      <th>Venezuela, Bolivarian Republic of</th>\n",
       "      <th>Viet Nam</th>\n",
       "      <th>Virgin Islands, British</th>\n",
       "      <th>Virgin Islands, U.S.</th>\n",
       "      <th>Yemen</th>\n",
       "      <th>Zambia</th>\n",
       "      <th>Zimbabwe</th>\n",
       "    </tr>\n",
       "  </thead>\n",
       "  <tbody>\n",
       "    <tr>\n",
       "      <th>0</th>\n",
       "      <td>https://www.federalregister.gov/articles/text/...</td>\n",
       "      <td>Culturally Significant Objects Imported for Ex...</td>\n",
       "      <td>Culturally Significant Objects Imported for Ex...</td>\n",
       "      <td>[]</td>\n",
       "      <td>\\nSUMMARY: \\nNotice is hereby given of the fol...</td>\n",
       "      <td>[(Mauritshuis, ORGANIZATION), (United States, ...</td>\n",
       "      <td>{u'Canada': {u'count': 1, u'probability': 0.07...</td>\n",
       "      <td>0.002095</td>\n",
       "      <td>0.000932</td>\n",
       "      <td>0.001163</td>\n",
       "      <td>...</td>\n",
       "      <td>0.071429</td>\n",
       "      <td>0.000988</td>\n",
       "      <td>0.000697</td>\n",
       "      <td>0.071429</td>\n",
       "      <td>0.007562</td>\n",
       "      <td>0.000977</td>\n",
       "      <td>0.006194</td>\n",
       "      <td>0.001408</td>\n",
       "      <td>0.000666</td>\n",
       "      <td>0.001488</td>\n",
       "    </tr>\n",
       "    <tr>\n",
       "      <th>1</th>\n",
       "      <td>https://www.federalregister.gov/articles/text/...</td>\n",
       "      <td>Proposed Collection: Comment Request</td>\n",
       "      <td></td>\n",
       "      <td>[]</td>\n",
       "      <td>\\nACTION: \\nNotice and request for comments. \\...</td>\n",
       "      <td>[(Treasury, ORGANIZATION), (Treasury, ORGANIZA...</td>\n",
       "      <td>{u'United States': {u'count': 2, u'probability...</td>\n",
       "      <td>0.002207</td>\n",
       "      <td>0.001381</td>\n",
       "      <td>0.001117</td>\n",
       "      <td>...</td>\n",
       "      <td>0.000079</td>\n",
       "      <td>0.000997</td>\n",
       "      <td>0.000319</td>\n",
       "      <td>0.002957</td>\n",
       "      <td>0.010015</td>\n",
       "      <td>0.000657</td>\n",
       "      <td>0.005247</td>\n",
       "      <td>0.001346</td>\n",
       "      <td>0.000666</td>\n",
       "      <td>0.001565</td>\n",
       "    </tr>\n",
       "    <tr>\n",
       "      <th>2</th>\n",
       "      <td>https://www.federalregister.gov/articles/text/...</td>\n",
       "      <td>National Medal of Technology and Innovation Ca...</td>\n",
       "      <td>Calls for Nominations:</td>\n",
       "      <td>[]</td>\n",
       "      <td>\\nACTION: \\nNotice and request for nominations...</td>\n",
       "      <td>[(Department of Commerce, ORGANIZATION), (Unit...</td>\n",
       "      <td>{u'Canada': {u'count': 1, u'probability': 0.08...</td>\n",
       "      <td>0.002271</td>\n",
       "      <td>0.000751</td>\n",
       "      <td>0.001401</td>\n",
       "      <td>...</td>\n",
       "      <td>0.003621</td>\n",
       "      <td>0.002398</td>\n",
       "      <td>0.000784</td>\n",
       "      <td>0.003522</td>\n",
       "      <td>0.008085</td>\n",
       "      <td>0.001174</td>\n",
       "      <td>0.005724</td>\n",
       "      <td>0.001978</td>\n",
       "      <td>0.000666</td>\n",
       "      <td>0.001691</td>\n",
       "    </tr>\n",
       "    <tr>\n",
       "      <th>3</th>\n",
       "      <td>https://www.federalregister.gov/articles/text/...</td>\n",
       "      <td>Additional Designations of Individuals Pursuan...</td>\n",
       "      <td>Blocking or Unblocking of Persons and Property:</td>\n",
       "      <td>[]</td>\n",
       "      <td>\\nACTION: \\nNotice. \\nSUMMARY: \\nThe U.S. Depa...</td>\n",
       "      <td>[(U.S. Department of the Treasury, ORGANIZATIO...</td>\n",
       "      <td>{u'United Kingdom': {u'count': 1, u'probabilit...</td>\n",
       "      <td>0.008639</td>\n",
       "      <td>0.000797</td>\n",
       "      <td>0.001883</td>\n",
       "      <td>...</td>\n",
       "      <td>0.003442</td>\n",
       "      <td>0.005527</td>\n",
       "      <td>0.000299</td>\n",
       "      <td>0.008629</td>\n",
       "      <td>0.008179</td>\n",
       "      <td>0.003873</td>\n",
       "      <td>0.005274</td>\n",
       "      <td>0.002994</td>\n",
       "      <td>0.000666</td>\n",
       "      <td>0.007600</td>\n",
       "    </tr>\n",
       "    <tr>\n",
       "      <th>4</th>\n",
       "      <td>https://www.federalregister.gov/articles/text/...</td>\n",
       "      <td>Fisheries of the Northeastern United States; S...</td>\n",
       "      <td>Fisheries of the Northeastern United States:</td>\n",
       "      <td>[]</td>\n",
       "      <td>\\nACTION: \\nTemporary rule; quota transfer. \\n...</td>\n",
       "      <td>[(NMFS, ORGANIZATION), (North Carolina, LOCATI...</td>\n",
       "      <td>{u'United States': {u'count': 7, u'probability...</td>\n",
       "      <td>0.001133</td>\n",
       "      <td>0.000193</td>\n",
       "      <td>0.001305</td>\n",
       "      <td>...</td>\n",
       "      <td>0.001923</td>\n",
       "      <td>0.001425</td>\n",
       "      <td>0.001711</td>\n",
       "      <td>0.002240</td>\n",
       "      <td>0.009529</td>\n",
       "      <td>0.001430</td>\n",
       "      <td>0.009279</td>\n",
       "      <td>0.002212</td>\n",
       "      <td>0.000666</td>\n",
       "      <td>0.001492</td>\n",
       "    </tr>\n",
       "  </tbody>\n",
       "</table>\n",
       "<p>5 rows × 235 columns</p>\n",
       "</div>"
      ],
      "text/plain": [
       "                                        raw_text_url  \\\n",
       "0  https://www.federalregister.gov/articles/text/...   \n",
       "1  https://www.federalregister.gov/articles/text/...   \n",
       "2  https://www.federalregister.gov/articles/text/...   \n",
       "3  https://www.federalregister.gov/articles/text/...   \n",
       "4  https://www.federalregister.gov/articles/text/...   \n",
       "\n",
       "                                               title  \\\n",
       "0  Culturally Significant Objects Imported for Ex...   \n",
       "1               Proposed Collection: Comment Request   \n",
       "2  National Medal of Technology and Innovation Ca...   \n",
       "3  Additional Designations of Individuals Pursuan...   \n",
       "4  Fisheries of the Northeastern United States; S...   \n",
       "\n",
       "                                         toc_subject topics  \\\n",
       "0  Culturally Significant Objects Imported for Ex...     []   \n",
       "1                                                        []   \n",
       "2                             Calls for Nominations:     []   \n",
       "3    Blocking or Unblocking of Persons and Property:     []   \n",
       "4       Fisheries of the Northeastern United States:     []   \n",
       "\n",
       "                                            raw_text  \\\n",
       "0  \\nSUMMARY: \\nNotice is hereby given of the fol...   \n",
       "1  \\nACTION: \\nNotice and request for comments. \\...   \n",
       "2  \\nACTION: \\nNotice and request for nominations...   \n",
       "3  \\nACTION: \\nNotice. \\nSUMMARY: \\nThe U.S. Depa...   \n",
       "4  \\nACTION: \\nTemporary rule; quota transfer. \\n...   \n",
       "\n",
       "                                            entities  \\\n",
       "0  [(Mauritshuis, ORGANIZATION), (United States, ...   \n",
       "1  [(Treasury, ORGANIZATION), (Treasury, ORGANIZA...   \n",
       "2  [(Department of Commerce, ORGANIZATION), (Unit...   \n",
       "3  [(U.S. Department of the Treasury, ORGANIZATIO...   \n",
       "4  [(NMFS, ORGANIZATION), (North Carolina, LOCATI...   \n",
       "\n",
       "                               pre-labeled countries  Afghanistan   Albania  \\\n",
       "0  {u'Canada': {u'count': 1, u'probability': 0.07...     0.002095  0.000932   \n",
       "1  {u'United States': {u'count': 2, u'probability...     0.002207  0.001381   \n",
       "2  {u'Canada': {u'count': 1, u'probability': 0.08...     0.002271  0.000751   \n",
       "3  {u'United Kingdom': {u'count': 1, u'probabilit...     0.008639  0.000797   \n",
       "4  {u'United States': {u'count': 7, u'probability...     0.001133  0.000193   \n",
       "\n",
       "    Algeria    ...      Uruguay  Uzbekistan   Vanuatu  \\\n",
       "0  0.001163    ...     0.071429    0.000988  0.000697   \n",
       "1  0.001117    ...     0.000079    0.000997  0.000319   \n",
       "2  0.001401    ...     0.003621    0.002398  0.000784   \n",
       "3  0.001883    ...     0.003442    0.005527  0.000299   \n",
       "4  0.001305    ...     0.001923    0.001425  0.001711   \n",
       "\n",
       "   Venezuela, Bolivarian Republic of  Viet Nam  Virgin Islands, British  \\\n",
       "0                           0.071429  0.007562                 0.000977   \n",
       "1                           0.002957  0.010015                 0.000657   \n",
       "2                           0.003522  0.008085                 0.001174   \n",
       "3                           0.008629  0.008179                 0.003873   \n",
       "4                           0.002240  0.009529                 0.001430   \n",
       "\n",
       "   Virgin Islands, U.S.     Yemen    Zambia  Zimbabwe  \n",
       "0              0.006194  0.001408  0.000666  0.001488  \n",
       "1              0.005247  0.001346  0.000666  0.001565  \n",
       "2              0.005724  0.001978  0.000666  0.001691  \n",
       "3              0.005274  0.002994  0.000666  0.007600  \n",
       "4              0.009279  0.002212  0.000666  0.001492  \n",
       "\n",
       "[5 rows x 235 columns]"
      ]
     },
     "execution_count": 65,
     "metadata": {},
     "output_type": "execute_result"
    }
   ],
   "source": [
    "labels.head()"
   ]
  },
  {
   "cell_type": "code",
   "execution_count": 67,
   "metadata": {
    "collapsed": true
   },
   "outputs": [],
   "source": [
    "labels.to_pickle('predicted_countries_df')"
   ]
  },
  {
   "cell_type": "code",
   "execution_count": 68,
   "metadata": {
    "collapsed": false
   },
   "outputs": [],
   "source": [
    "labels = pd.read_pickle('predicted_countries_df')"
   ]
  },
  {
   "cell_type": "code",
   "execution_count": 78,
   "metadata": {
    "collapsed": false
   },
   "outputs": [],
   "source": [
    "row_list = []\n",
    "for row in labels.iterrows():\n",
    "    country_dict = {}\n",
    "    for country in country_columns:\n",
    "        probability = row[1][country]\n",
    "        if probability > 0.3:\n",
    "            country_dict[country] = probability\n",
    "    row_list.append({'id': row[0], 'title': row[1].title, 'link': row[1].raw_text_url, 'probabilities': country_dict})"
   ]
  },
  {
   "cell_type": "code",
   "execution_count": 79,
   "metadata": {
    "collapsed": true
   },
   "outputs": [],
   "source": [
    "import json"
   ]
  },
  {
   "cell_type": "code",
   "execution_count": 80,
   "metadata": {
    "collapsed": false
   },
   "outputs": [],
   "source": [
    "with open('parsed.json', 'w') as f:\n",
    "    json.dump(row_list, f, indent=4, sort_keys=True)"
   ]
  },
  {
   "cell_type": "code",
   "execution_count": null,
   "metadata": {
    "collapsed": true
   },
   "outputs": [],
   "source": []
  }
 ],
 "metadata": {
  "kernelspec": {
   "display_name": "Python 2",
   "language": "python",
   "name": "python2"
  },
  "language_info": {
   "codemirror_mode": {
    "name": "ipython",
    "version": 2
   },
   "file_extension": ".py",
   "mimetype": "text/x-python",
   "name": "python",
   "nbconvert_exporter": "python",
   "pygments_lexer": "ipython2",
   "version": "2.7.10"
  }
 },
 "nbformat": 4,
 "nbformat_minor": 0
}
